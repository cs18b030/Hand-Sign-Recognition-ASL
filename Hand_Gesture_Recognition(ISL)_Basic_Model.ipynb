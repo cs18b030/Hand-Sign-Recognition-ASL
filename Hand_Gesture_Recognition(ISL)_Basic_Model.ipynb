{
  "nbformat": 4,
  "nbformat_minor": 0,
  "metadata": {
    "colab": {
      "name": "Hand Gesture Recognition(ISL) - Basic Model.ipynb",
      "provenance": []
    },
    "kernelspec": {
      "name": "python3",
      "display_name": "Python 3"
    },
    "accelerator": "GPU"
  },
  "cells": [
    {
      "cell_type": "code",
      "metadata": {
        "id": "c0Inxc4PmyWa",
        "colab_type": "code",
        "colab": {
          "base_uri": "https://localhost:8080/",
          "height": 34
        },
        "outputId": "542bb249-9f81-4b42-e5b5-b064f4bcf580"
      },
      "source": [
        "import os\n",
        "import sys\n",
        "import math\n",
        "import numpy as np\n",
        "import pandas as pd\n",
        "import matplotlib.pyplot as plt\n",
        "from keras.layers import Input, Dense, Activation, ZeroPadding2D, BatchNormalization, Flatten, Conv2D\n",
        "from keras.layers import MaxPooling2D, Dropout\n",
        "from keras.models import Model\n",
        "from keras.preprocessing import image\n",
        "from keras.utils import to_categorical\n",
        "import tensorflow as tf"
      ],
      "execution_count": 1,
      "outputs": [
        {
          "output_type": "stream",
          "text": [
            "Using TensorFlow backend.\n"
          ],
          "name": "stderr"
        }
      ]
    },
    {
      "cell_type": "code",
      "metadata": {
        "id": "DICPMJsPDEVx",
        "colab_type": "code",
        "colab": {
          "base_uri": "https://localhost:8080/",
          "height": 34
        },
        "outputId": "6832c9b6-2b0d-4c59-847e-90c279700920"
      },
      "source": [
        "tf.version"
      ],
      "execution_count": 2,
      "outputs": [
        {
          "output_type": "execute_result",
          "data": {
            "text/plain": [
              "<module 'tensorflow._api.v2.version' from '/usr/local/lib/python3.6/dist-packages/tensorflow/_api/v2/version/__init__.py'>"
            ]
          },
          "metadata": {
            "tags": []
          },
          "execution_count": 2
        }
      ]
    },
    {
      "cell_type": "code",
      "metadata": {
        "id": "80e4r283oc9C",
        "colab_type": "code",
        "colab": {
          "base_uri": "https://localhost:8080/",
          "height": 121
        },
        "outputId": "3f87bb7c-323f-4456-b56e-f9bd5946c802"
      },
      "source": [
        "from google.colab import drive\n",
        "drive.mount('/content/drive')"
      ],
      "execution_count": 3,
      "outputs": [
        {
          "output_type": "stream",
          "text": [
            "Go to this URL in a browser: https://accounts.google.com/o/oauth2/auth?client_id=947318989803-6bn6qk8qdgf4n4g3pfee6491hc0brc4i.apps.googleusercontent.com&redirect_uri=urn%3aietf%3awg%3aoauth%3a2.0%3aoob&response_type=code&scope=email%20https%3a%2f%2fwww.googleapis.com%2fauth%2fdocs.test%20https%3a%2f%2fwww.googleapis.com%2fauth%2fdrive%20https%3a%2f%2fwww.googleapis.com%2fauth%2fdrive.photos.readonly%20https%3a%2f%2fwww.googleapis.com%2fauth%2fpeopleapi.readonly\n",
            "\n",
            "Enter your authorization code:\n",
            "··········\n",
            "Mounted at /content/drive\n"
          ],
          "name": "stdout"
        }
      ]
    },
    {
      "cell_type": "code",
      "metadata": {
        "id": "w8ETKQo0oepB",
        "colab_type": "code",
        "colab": {}
      },
      "source": [
        "# root_path = \"/content/drive/My Drive/Image_Dataset/\"\n",
        "# count = 0\n",
        "# data = []\n",
        "# label = []\n",
        "# for i in range(26):\n",
        "#     s = chr(ord('A') + i)\n",
        "#     for filename in os.listdir(root_path+s):\n",
        "#         if filename.endswith(\".png\"):\n",
        "#             img = image.load_img(root_path + s + \"/\" + filename)\n",
        "#             img_matrix = image.img_to_array(img)\n",
        "#             resized_img = tf.image.resize(img_matrix, [60, 80])\n",
        "#             data.append(resized_img)\n",
        "#             label.append(i)\n",
        "#             count +=1\n",
        "#             if(count%500==0):\n",
        "#                 print(count)\n",
        "# print(count)"
      ],
      "execution_count": 0,
      "outputs": []
    },
    {
      "cell_type": "code",
      "metadata": {
        "id": "viDOh3_CtuZq",
        "colab_type": "code",
        "colab": {
          "base_uri": "https://localhost:8080/",
          "height": 285
        },
        "outputId": "922371b0-59eb-49bf-e053-db04c4692214"
      },
      "source": [
        "example_no = 108\n",
        "plt.imshow(data[example_no][:,:,0])\n",
        "print(\"Letter - \", chr(ord('A') + label[example_no]))"
      ],
      "execution_count": 65,
      "outputs": [
        {
          "output_type": "stream",
          "text": [
            "Letter -  A\n"
          ],
          "name": "stdout"
        },
        {
          "output_type": "display_data",
          "data": {
            "image/png": "[encoded data removed]",
            "text/plain": [
              "<Figure size 432x288 with 1 Axes>"
            ]
          },
          "metadata": {
            "tags": [],
            "needs_background": "light"
          }
        }
      ]
    },
    {
      "cell_type": "code",
      "metadata": {
        "id": "Ih5SEkZht6Oy",
        "colab_type": "code",
        "colab": {
          "base_uri": "https://localhost:8080/",
          "height": 285
        },
        "outputId": "050d7bb6-aa11-4e79-8f88-d4cbb7b61ffa"
      },
      "source": [
        "mapIndexPosition = list(zip(data, label))\n",
        "np.random.seed(1) #using seed = 1 to get same results every time\n",
        "np.random.shuffle(mapIndexPosition)\n",
        "data, label = zip(*mapIndexPosition)\n",
        "example_no = 108\n",
        "plt.imshow(data[example_no][:,:,0])\n",
        "print(\"Letter - \", chr(ord('A') + label[example_no]))"
      ],
      "execution_count": 69,
      "outputs": [
        {
          "output_type": "stream",
          "text": [
            "Letter -  W\n"
          ],
          "name": "stdout"
        },
        {
          "output_type": "display_data",
          "data": {
            "image/png": "[encoded data removed]",
            "text/plain": [
              "<Figure size 432x288 with 1 Axes>"
            ]
          },
          "metadata": {
            "tags": [],
            "needs_background": "light"
          }
        }
      ]
    },
    {
      "cell_type": "code",
      "metadata": {
        "id": "NlYrv75nt8M1",
        "colab_type": "code",
        "colab": {
          "base_uri": "https://localhost:8080/",
          "height": 34
        },
        "outputId": "58d4a5e1-b096-43d5-cf1c-2e61a593e00c"
      },
      "source": [
        "# print(data[0].shape)\n",
        "# X = np.zeros((len(data), data[0].shape[0], data[0].shape[1], data[0].shape[2]))\n",
        "# Y = np.zeros(len(data))\n",
        "# for i in range(len(data)):\n",
        "#     X[i] = data[i]\n",
        "#     Y[i] = label[i]\n",
        "# # print(X.shape, Y.shape)\n",
        "# # print(Y[0])\n",
        "# # print(X[0])"
      ],
      "execution_count": 80,
      "outputs": [
        {
          "output_type": "stream",
          "text": [
            "(60, 80, 3)\n"
          ],
          "name": "stdout"
        }
      ]
    },
    {
      "cell_type": "code",
      "metadata": {
        "id": "jJnETn1K0SkU",
        "colab_type": "code",
        "colab": {}
      },
      "source": [
        "# split = (int)((4/5)*len(data))\n",
        "# X_train = X[:split,:,:,:]\n",
        "# Y_train = to_categorical(Y[:split], 26)\n",
        "# X_test = X[split:,:,:,:]\n",
        "# Y_test = to_categorical(Y[split:], 26)"
      ],
      "execution_count": 0,
      "outputs": []
    },
    {
      "cell_type": "code",
      "metadata": {
        "id": "Yy96472Vc9Ph",
        "colab_type": "code",
        "colab": {}
      },
      "source": [
        "data = np.load('/content/drive/My Drive/ISL data/data.npz')\n",
        "X_train = data['arr_0']\n",
        "Y_train = data['arr_1']\n",
        "X_test = data['arr_2']\n",
        "Y_test = data['arr_3']"
      ],
      "execution_count": 0,
      "outputs": []
    },
    {
      "cell_type": "code",
      "metadata": {
        "id": "8CpyKMu51hsA",
        "colab_type": "code",
        "colab": {
          "base_uri": "https://localhost:8080/",
          "height": 84
        },
        "outputId": "60aebb7e-83fd-4988-cd63-3d9da4f4ec93"
      },
      "source": [
        "print(\"X-train shape = \", X_train.shape)\n",
        "print(\"Y-train shape = \", Y_train.shape)\n",
        "print(\"X-test shape = \", X_test.shape)\n",
        "print(\"Y-test shape = \", Y_test.shape)\n"
      ],
      "execution_count": 9,
      "outputs": [
        {
          "output_type": "stream",
          "text": [
            "X-train shape =  (5811, 60, 80, 3)\n",
            "Y-train shape =  (5811, 26)\n",
            "X-test shape =  (1453, 60, 80, 3)\n",
            "Y-test shape =  (1453, 26)\n"
          ],
          "name": "stdout"
        }
      ]
    },
    {
      "cell_type": "code",
      "metadata": {
        "id": "w1-v5i0aV6ou",
        "colab_type": "code",
        "colab": {}
      },
      "source": [
        "def model(input_shape):\n",
        "    \"\"\"\n",
        "    Implementation of the HappyModel.\n",
        "    \n",
        "    Arguments:\n",
        "    input_shape -- shape of the images of the dataset\n",
        "        (height, width, channels) as a tuple.  \n",
        "\n",
        "    \"\"\"\n",
        "    X_input = Input(input_shape, name=\"Input1\")\n",
        "\n",
        "    # Zero-Padding: pads the border of X_input with zeroes\n",
        "    X = ZeroPadding2D((3, 3))(X_input)\n",
        "\n",
        "    # CONV -> BN -> RELU Block applied to X\n",
        "    X = Conv2D(32, (7, 7), strides = (1, 1), name = 'conv0')(X)\n",
        "    X = BatchNormalization(name = 'bn0')(X)\n",
        "    X = Activation('relu')(X)\n",
        "\n",
        "    # MAXPOOL\n",
        "    X = MaxPooling2D((2, 2), name='max_pool')(X)\n",
        "\n",
        "    # CONV -> BN -> RELU Block applied to X\n",
        "    X = Conv2D(64, (3, 3), strides = (2, 2), name = 'conv1')(X)\n",
        "    X = BatchNormalization(name = 'bn1')(X)\n",
        "    X = Activation('relu')(X)\n",
        "\n",
        "\n",
        "    # FLATTEN X (means convert it to a vector) + FULLYCONNECTED\n",
        "    X = Flatten()(X)\n",
        "    X = Dense(26, activation='softmax', name='FC')(X)\n",
        "\n",
        "    # Create model. This creates your Keras model instance, you'll use this instance to train/test the model.\n",
        "    model = Model(inputs = X_input, outputs = X, name='Basic Model')\n",
        "\n",
        "    return model"
      ],
      "execution_count": 0,
      "outputs": []
    },
    {
      "cell_type": "code",
      "metadata": {
        "id": "TtmYFyMFXjc8",
        "colab_type": "code",
        "colab": {
          "base_uri": "https://localhost:8080/",
          "height": 521
        },
        "outputId": "baf165e5-f6f3-4d44-8d3e-4bf7b13c968c"
      },
      "source": [
        "model = model(X_train.shape[1:])\n",
        "model.compile(optimizer = \"adam\", loss = 'categorical_crossentropy', metrics = [\"accuracy\"])\n",
        "model.summary()"
      ],
      "execution_count": 11,
      "outputs": [
        {
          "output_type": "stream",
          "text": [
            "Model: \"Basic Model\"\n",
            "_________________________________________________________________\n",
            "Layer (type)                 Output Shape              Param #   \n",
            "=================================================================\n",
            "Input1 (InputLayer)          (None, 60, 80, 3)         0         \n",
            "_________________________________________________________________\n",
            "zero_padding2d_1 (ZeroPaddin (None, 66, 86, 3)         0         \n",
            "_________________________________________________________________\n",
            "conv0 (Conv2D)               (None, 60, 80, 32)        4736      \n",
            "_________________________________________________________________\n",
            "bn0 (BatchNormalization)     (None, 60, 80, 32)        128       \n",
            "_________________________________________________________________\n",
            "activation_1 (Activation)    (None, 60, 80, 32)        0         \n",
            "_________________________________________________________________\n",
            "max_pool (MaxPooling2D)      (None, 30, 40, 32)        0         \n",
            "_________________________________________________________________\n",
            "conv1 (Conv2D)               (None, 14, 19, 64)        18496     \n",
            "_________________________________________________________________\n",
            "bn1 (BatchNormalization)     (None, 14, 19, 64)        256       \n",
            "_________________________________________________________________\n",
            "activation_2 (Activation)    (None, 14, 19, 64)        0         \n",
            "_________________________________________________________________\n",
            "flatten_1 (Flatten)          (None, 17024)             0         \n",
            "_________________________________________________________________\n",
            "FC (Dense)                   (None, 26)                442650    \n",
            "=================================================================\n",
            "Total params: 466,266\n",
            "Trainable params: 466,074\n",
            "Non-trainable params: 192\n",
            "_________________________________________________________________\n"
          ],
          "name": "stdout"
        }
      ]
    },
    {
      "cell_type": "code",
      "metadata": {
        "id": "qnGPDfstYB9W",
        "colab_type": "code",
        "colab": {
          "base_uri": "https://localhost:8080/",
          "height": 706
        },
        "outputId": "313a0bda-fd2f-47be-a2dd-d116355dc396"
      },
      "source": [
        "model.fit(x = X_train, y = Y_train, epochs = 10, batch_size = 64)"
      ],
      "execution_count": 12,
      "outputs": [
        {
          "output_type": "stream",
          "text": [
            "Epoch 1/20\n",
            "5811/5811 [==============================] - 10s 2ms/step - loss: 1.1131 - accuracy: 0.7364\n",
            "Epoch 2/20\n",
            "5811/5811 [==============================] - 4s 648us/step - loss: 0.1012 - accuracy: 0.9713\n",
            "Epoch 3/20\n",
            "5811/5811 [==============================] - 4s 645us/step - loss: 0.0415 - accuracy: 0.9867\n",
            "Epoch 4/20\n",
            "5811/5811 [==============================] - 4s 649us/step - loss: 0.0304 - accuracy: 0.9917\n",
            "Epoch 5/20\n",
            "5811/5811 [==============================] - 4s 651us/step - loss: 0.0188 - accuracy: 0.9950\n",
            "Epoch 6/20\n",
            "5811/5811 [==============================] - 4s 659us/step - loss: 0.0172 - accuracy: 0.9962\n",
            "Epoch 7/20\n",
            "5811/5811 [==============================] - 4s 662us/step - loss: 0.0072 - accuracy: 0.9981\n",
            "Epoch 8/20\n",
            "5811/5811 [==============================] - 4s 664us/step - loss: 0.0393 - accuracy: 0.9919\n",
            "Epoch 9/20\n",
            "5811/5811 [==============================] - 4s 658us/step - loss: 0.0363 - accuracy: 0.9919\n",
            "Epoch 10/20\n",
            "5811/5811 [==============================] - 4s 658us/step - loss: 0.0374 - accuracy: 0.9912\n",
            "Epoch 11/20\n",
            "5811/5811 [==============================] - 4s 665us/step - loss: 0.0248 - accuracy: 0.9936\n",
            "Epoch 12/20\n",
            "5811/5811 [==============================] - 4s 658us/step - loss: 0.0105 - accuracy: 0.9978\n",
            "Epoch 13/20\n",
            "5811/5811 [==============================] - 4s 658us/step - loss: 0.0144 - accuracy: 0.9957\n",
            "Epoch 14/20\n",
            "5811/5811 [==============================] - 4s 661us/step - loss: 0.0300 - accuracy: 0.9926\n",
            "Epoch 15/20\n",
            "5811/5811 [==============================] - 4s 649us/step - loss: 0.0242 - accuracy: 0.9943\n",
            "Epoch 16/20\n",
            "5811/5811 [==============================] - 4s 657us/step - loss: 0.0173 - accuracy: 0.9957\n",
            "Epoch 17/20\n",
            "5811/5811 [==============================] - 4s 662us/step - loss: 0.0357 - accuracy: 0.9954\n",
            "Epoch 18/20\n",
            "5811/5811 [==============================] - 4s 660us/step - loss: 0.0193 - accuracy: 0.9941\n",
            "Epoch 19/20\n",
            "5811/5811 [==============================] - 4s 661us/step - loss: 0.0178 - accuracy: 0.9960\n",
            "Epoch 20/20\n",
            "5811/5811 [==============================] - 4s 658us/step - loss: 0.0094 - accuracy: 0.9978\n"
          ],
          "name": "stdout"
        },
        {
          "output_type": "execute_result",
          "data": {
            "text/plain": [
              "<keras.callbacks.callbacks.History at 0x7efb4652cf28>"
            ]
          },
          "metadata": {
            "tags": []
          },
          "execution_count": 12
        }
      ]
    },
    {
      "cell_type": "code",
      "metadata": {
        "id": "-F4Lz8MaYKX4",
        "colab_type": "code",
        "colab": {
          "base_uri": "https://localhost:8080/",
          "height": 50
        },
        "outputId": "373988a7-69d7-4c90-a42c-ac5f720d7b8c"
      },
      "source": [
        "model.evaluate(x = X_test, y= Y_test)"
      ],
      "execution_count": 13,
      "outputs": [
        {
          "output_type": "stream",
          "text": [
            "1453/1453 [==============================] - 1s 394us/step\n"
          ],
          "name": "stdout"
        },
        {
          "output_type": "execute_result",
          "data": {
            "text/plain": [
              "[0.11196980664786337, 0.9745354652404785]"
            ]
          },
          "metadata": {
            "tags": []
          },
          "execution_count": 13
        }
      ]
    },
    {
      "cell_type": "code",
      "metadata": {
        "id": "uSEnm0HOYbZS",
        "colab_type": "code",
        "colab": {}
      },
      "source": [
        ""
      ],
      "execution_count": 0,
      "outputs": []
    },
    {
      "cell_type": "code",
      "metadata": {
        "id": "0-UYrBs4crNg",
        "colab_type": "code",
        "colab": {}
      },
      "source": [
        ""
      ],
      "execution_count": 0,
      "outputs": []
    },
    {
      "cell_type": "code",
      "metadata": {
        "id": "3G3vAgovct5v",
        "colab_type": "code",
        "colab": {}
      },
      "source": [
        ""
      ],
      "execution_count": 0,
      "outputs": []
    }
  ]
}