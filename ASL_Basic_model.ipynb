{
  "nbformat": 4,
  "nbformat_minor": 0,
  "metadata": {
    "colab": {
      "name": "ASL Basic model.ipynb",
      "provenance": []
    },
    "kernelspec": {
      "name": "python3",
      "display_name": "Python 3"
    },
    "accelerator": "GPU"
  },
  "cells": [
    {
      "cell_type": "code",
      "metadata": {
        "id": "MX7c50SXrI0S",
        "colab_type": "code",
        "colab": {}
      },
      "source": [
        "import os\n",
        "import sys\n",
        "import math\n",
        "import numpy as np\n",
        "import pandas as pd\n",
        "import matplotlib.pyplot as plt\n",
        "from keras.layers import Input, Dense, Activation, ZeroPadding2D, BatchNormalization, Flatten, Conv2D\n",
        "from keras.layers import MaxPooling2D, Dropout\n",
        "from keras.models import Model\n",
        "from keras.preprocessing import image\n",
        "from keras.utils import to_categorical\n",
        "import tensorflow as tf\n",
        "from sklearn.metrics import confusion_matrix"
      ],
      "execution_count": 0,
      "outputs": []
    },
    {
      "cell_type": "code",
      "metadata": {
        "id": "fPqXu4losEf9",
        "colab_type": "code",
        "colab": {
          "base_uri": "https://localhost:8080/",
          "height": 121
        },
        "outputId": "79055c35-68ea-4db4-d16d-0075576ce0a2"
      },
      "source": [
        "from google.colab import drive\n",
        "drive.mount('/content/drive')"
      ],
      "execution_count": 2,
      "outputs": [
        {
          "output_type": "stream",
          "text": [
            "Go to this URL in a browser: https://accounts.google.com/o/oauth2/auth?client_id=947318989803-6bn6qk8qdgf4n4g3pfee6491hc0brc4i.apps.googleusercontent.com&redirect_uri=urn%3aietf%3awg%3aoauth%3a2.0%3aoob&response_type=code&scope=email%20https%3a%2f%2fwww.googleapis.com%2fauth%2fdocs.test%20https%3a%2f%2fwww.googleapis.com%2fauth%2fdrive%20https%3a%2f%2fwww.googleapis.com%2fauth%2fdrive.photos.readonly%20https%3a%2f%2fwww.googleapis.com%2fauth%2fpeopleapi.readonly\n",
            "\n",
            "Enter your authorization code:\n",
            "··········\n",
            "Mounted at /content/drive\n"
          ],
          "name": "stdout"
        }
      ]
    },
    {
      "cell_type": "code",
      "metadata": {
        "id": "rL0bJK7XsI2K",
        "colab_type": "code",
        "colab": {
          "base_uri": "https://localhost:8080/",
          "height": 84
        },
        "outputId": "347bff55-1554-4927-a45d-be2b4306b6fd"
      },
      "source": [
        "root_path = '/content/drive/My Drive/ASL/'\n",
        "train = pd.read_csv(root_path+'sign_mnist_train.csv').to_numpy()\n",
        "test = pd.read_csv(root_path+'sign_mnist_test.csv').to_numpy()\n",
        "# create X_train, Y_train, X_test and Y_test as numpy arrays of correct shape\n",
        "X_train = train[:,1:].reshape(-1,28,28,1)\n",
        "X_test = test[:,1:].reshape(-1,28,28,1)\n",
        "Y_train = tf.keras.utils.to_categorical(train[:,0], num_classes=26, dtype='int32')\n",
        "Y_test = tf.keras.utils.to_categorical(test[:,0], num_classes=26, dtype='int32')\n",
        "print(\"X-train shape = \", X_train.shape)\n",
        "print(\"Y-train shape = \", Y_train.shape)\n",
        "print(\"X-test shape = \", X_test.shape)\n",
        "print(\"Y-test shape = \", Y_test.shape)"
      ],
      "execution_count": 3,
      "outputs": [
        {
          "output_type": "stream",
          "text": [
            "X-train shape =  (27455, 28, 28, 1)\n",
            "Y-train shape =  (27455, 26)\n",
            "X-test shape =  (7172, 28, 28, 1)\n",
            "Y-test shape =  (7172, 26)\n"
          ],
          "name": "stdout"
        }
      ]
    },
    {
      "cell_type": "code",
      "metadata": {
        "id": "b5SSfE8NtdYg",
        "colab_type": "code",
        "colab": {
          "base_uri": "https://localhost:8080/",
          "height": 282
        },
        "outputId": "a98a3db4-6094-4a1b-e773-6eed4038a156"
      },
      "source": [
        "example = 234\n",
        "plt.imshow(X_train[example,:,:,0], cmap='gray', vmin=0, vmax=255)\n",
        "print(\"Alphabet - \", chr(ord('A') + np.argmax(Y_train[example])))"
      ],
      "execution_count": 4,
      "outputs": [
        {
          "output_type": "stream",
          "text": [
            "Alphabet -  O\n"
          ],
          "name": "stdout"
        },
        {
          "output_type": "display_data",
          "data": {
            "image/png": "[encoded data removed]",
            "text/plain": [
              "<Figure size 432x288 with 1 Axes>"
            ]
          },
          "metadata": {
            "tags": [],
            "needs_background": "light"
          }
        }
      ]
    },
    {
      "cell_type": "code",
      "metadata": {
        "id": "xKJv1qfTtr5v",
        "colab_type": "code",
        "colab": {}
      },
      "source": [
        "def model(input_shape):\n",
        "    \"\"\"\n",
        "    Implementation of the HappyModel.\n",
        "    \n",
        "    Arguments:\n",
        "    input_shape -- shape of the images of the dataset\n",
        "        (height, width, channels) as a tuple.  \n",
        "\n",
        "    \"\"\"\n",
        "    X_input = Input(input_shape, name=\"Input1\")\n",
        "\n",
        "    # Zero-Padding: pads the border of X_input with zeroes\n",
        "    X = ZeroPadding2D((3, 3))(X_input)\n",
        "\n",
        "    # CONV -> BN -> RELU Block applied to X\n",
        "    X = Conv2D(16, (7, 7), strides = (1, 1), name = 'conv0')(X)\n",
        "    X = BatchNormalization(name = 'bn0')(X)\n",
        "    X = Activation('relu')(X)\n",
        "\n",
        "    # MAXPOOL\n",
        "    X = MaxPooling2D((2, 2), name='max_pool')(X)\n",
        "\n",
        "    # # CONV -> BN -> RELU Block applied to X\n",
        "    # X = Conv2D(64, (3, 3), strides = (2, 2), name = 'conv1')(X)\n",
        "    # X = BatchNormalization(name = 'bn1')(X)\n",
        "    # X = Activation('relu')(X)\n",
        "\n",
        "\n",
        "    # FLATTEN X (means convert it to a vector) + FULLYCONNECTED\n",
        "    X = Flatten()(X)\n",
        "    X = Dense(26, activation='softmax', name='FC')(X)\n",
        "\n",
        "    # Create model. This creates your Keras model instance, you'll use this instance to train/test the model.\n",
        "    model = Model(inputs = X_input, outputs = X, name='Basic Model')\n",
        "\n",
        "    return model"
      ],
      "execution_count": 0,
      "outputs": []
    },
    {
      "cell_type": "code",
      "metadata": {
        "id": "CJsxLGPru2g_",
        "colab_type": "code",
        "colab": {
          "base_uri": "https://localhost:8080/",
          "height": 420
        },
        "outputId": "81681fe9-5e32-469c-f9c1-e7ef66f976cf"
      },
      "source": [
        "model = model(X_train.shape[1:])\n",
        "model.compile(optimizer = \"adam\", loss = 'categorical_crossentropy', metrics = [\"accuracy\"])\n",
        "model.summary()"
      ],
      "execution_count": 15,
      "outputs": [
        {
          "output_type": "stream",
          "text": [
            "Model: \"Basic Model\"\n",
            "_________________________________________________________________\n",
            "Layer (type)                 Output Shape              Param #   \n",
            "=================================================================\n",
            "Input1 (InputLayer)          (None, 28, 28, 1)         0         \n",
            "_________________________________________________________________\n",
            "zero_padding2d_3 (ZeroPaddin (None, 34, 34, 1)         0         \n",
            "_________________________________________________________________\n",
            "conv0 (Conv2D)               (None, 28, 28, 16)        800       \n",
            "_________________________________________________________________\n",
            "bn0 (BatchNormalization)     (None, 28, 28, 16)        64        \n",
            "_________________________________________________________________\n",
            "activation_4 (Activation)    (None, 28, 28, 16)        0         \n",
            "_________________________________________________________________\n",
            "max_pool (MaxPooling2D)      (None, 14, 14, 16)        0         \n",
            "_________________________________________________________________\n",
            "flatten_3 (Flatten)          (None, 3136)              0         \n",
            "_________________________________________________________________\n",
            "FC (Dense)                   (None, 26)                81562     \n",
            "=================================================================\n",
            "Total params: 82,426\n",
            "Trainable params: 82,394\n",
            "Non-trainable params: 32\n",
            "_________________________________________________________________\n"
          ],
          "name": "stdout"
        }
      ]
    },
    {
      "cell_type": "code",
      "metadata": {
        "id": "lMPWHCkIu3aV",
        "colab_type": "code",
        "colab": {
          "base_uri": "https://localhost:8080/",
          "height": 202
        },
        "outputId": "b0b333b4-e61a-46aa-e9e3-4ebb515f61ec"
      },
      "source": [
        "model.fit(x = X_train, y = Y_train, epochs = 5, batch_size = 64)"
      ],
      "execution_count": 16,
      "outputs": [
        {
          "output_type": "stream",
          "text": [
            "Epoch 1/5\n",
            "27455/27455 [==============================] - 3s 104us/step - loss: 0.4780 - accuracy: 0.8775\n",
            "Epoch 2/5\n",
            "27455/27455 [==============================] - 3s 97us/step - loss: 0.0132 - accuracy: 1.0000\n",
            "Epoch 3/5\n",
            "27455/27455 [==============================] - 3s 96us/step - loss: 0.0045 - accuracy: 1.0000\n",
            "Epoch 4/5\n",
            "27455/27455 [==============================] - 3s 97us/step - loss: 0.0022 - accuracy: 1.0000\n",
            "Epoch 5/5\n",
            "27455/27455 [==============================] - 3s 96us/step - loss: 0.0014 - accuracy: 1.0000\n"
          ],
          "name": "stdout"
        },
        {
          "output_type": "execute_result",
          "data": {
            "text/plain": [
              "<keras.callbacks.callbacks.History at 0x7f8c2821ac50>"
            ]
          },
          "metadata": {
            "tags": []
          },
          "execution_count": 16
        }
      ]
    },
    {
      "cell_type": "code",
      "metadata": {
        "id": "-gD8A0Hwu_be",
        "colab_type": "code",
        "colab": {
          "base_uri": "https://localhost:8080/",
          "height": 50
        },
        "outputId": "ebf52d1a-85aa-4dad-a07e-7366dd302a2a"
      },
      "source": [
        "model.evaluate(x = X_test, y= Y_test)"
      ],
      "execution_count": 27,
      "outputs": [
        {
          "output_type": "stream",
          "text": [
            "7172/7172 [==============================] - 1s 97us/step\n"
          ],
          "name": "stdout"
        },
        {
          "output_type": "execute_result",
          "data": {
            "text/plain": [
              "[0.6188985040266954, 0.8633574843406677]"
            ]
          },
          "metadata": {
            "tags": []
          },
          "execution_count": 27
        }
      ]
    },
    {
      "cell_type": "code",
      "metadata": {
        "id": "jbiBc-GcvWLS",
        "colab_type": "code",
        "colab": {
          "base_uri": "https://localhost:8080/",
          "height": 668
        },
        "outputId": "7d570720-bc96-45fc-d80e-6b431dcd5d6e"
      },
      "source": [
        "y_pred = np.argmax(model.predict(X_test), axis=-1)\n",
        "y = np.argmax(Y_test,axis=-1)\n",
        "cm = confusion_matrix(y, y_pred)\n",
        "plt.imshow(cm)\n",
        "np.set_printoptions(linewidth=np.inf)\n",
        "print(cm)"
      ],
      "execution_count": 36,
      "outputs": [
        {
          "output_type": "stream",
          "text": [
            "[[331   0   0   0   0   0   0   0   0   0   0   0   0   0   0   0   0   0   0   0   0   0   0   0]\n",
            " [  0 406   0   4   0   0   0   0   0   0   0   0   0   0   0   0   0   0   0   0   0  22   0   0]\n",
            " [  0   0 289   0   0  21   0   0   0   0   0   0   0   0   0   0   0   0   0   0   0   0   0   0]\n",
            " [  0   0   0 245   0   0   0   0   0   0   0   0   0   0   0   0   0   0   0   0   0   0   0   0]\n",
            " [  0   0   0   0 481   0   0   0   0   0   0   0   0   0   0   0   0  17   0   0   0   0   0   0]\n",
            " [  0   0   0   0   0 247   0   0   0   0   0   0   0   0   0   0   0   0   0   0   0   0   0   0]\n",
            " [  0   0   0   0   0   0 266  21   0   0   0   1   0   0  20  39   0   0   1   0   0   0   0   0]\n",
            " [  0   0   0   0   0   0  41 375   0  14   0   0   0   0   0   0   0   0   6   0   0   0   0   0]\n",
            " [  0   0   0   0   0   0   0   0 221   8   0   0   1   0   0   0  21   0   0   0   0   0   0  37]\n",
            " [  0   0   0   0   0   0   0   0   0 267   0   0   0   0   1   0  42  21   0   0   0   0   0   0]\n",
            " [  0   0   0   0   0   0   0   0   0   0 209   0   0   0   0   0   0   0   0   0   0   0   0   0]\n",
            " [  0   0   0   0   1   0   0   0   0   0   0 330  21   0   0   0   0  42   0   0   0   0   0   0]\n",
            " [  6   0   0   0   0   0   0   0   0   0   0  73 188  15   0   0   0   7   1   0   0   0   1   0]\n",
            " [  0   0   0   0   0   0   0   0   0   0   0   0  35 205   6   0   0   0   0   0   0   0   0   0]\n",
            " [  0   0   0   0   0   0   0   0   0   0   0   0   0   0 347   0   0   0   0   0   0   0   0   0]\n",
            " [  0   0   0   0   0   0   0   0   0   0   0  21   0   0   0 143   0   0   0   0   0   0   0   0]\n",
            " [  0   0   0   0   0   0   0   0   0  12   0   0   0   0   0   0  70   0   0  29  33   0   0   0]\n",
            " [  0   0   0   0  21   0   0   0   0   0   0  20   0   0   0   0   0 205   0   0   0   0   0   0]\n",
            " [  0   0   0   0   0   0   0  37   0   0  19   0   0   0   1   0   0   0 145   0   0   2  23  21]\n",
            " [  0   0   0   0   0   0   0   0   0  59   0   0   0   0   0   0   1   0   0 206   0   0   0   0]\n",
            " [  0   0   0   0   0   0   0   0   0   0   0   0   0   0   0   0  20   0   0   0 304  22   0   0]\n",
            " [  0   0   0   0   0   0   0   0   0   0   0   0   0   0   0   0   0   0   0   0  22 184   0   0]\n",
            " [  0   0   0   0   0   0   0   0   0   0   0   0   0   0   0   0   0  21  21   0   0   0 225   0]\n",
            " [  0   0   0   0   0   0   0   6  23   0   0   0   0   0   0   0   0   0   0   0   0   0   0 303]]\n"
          ],
          "name": "stdout"
        },
        {
          "output_type": "display_data",
          "data": {
            "image/png": "[encoded data removed]",
            "text/plain": [
              "<Figure size 432x288 with 1 Axes>"
            ]
          },
          "metadata": {
            "tags": [],
            "needs_background": "light"
          }
        }
      ]
    },
    {
      "cell_type": "markdown",
      "metadata": {
        "id": "hEbZRV4azLFw",
        "colab_type": "text"
      },
      "source": [
        "# **Some Observations:**\n",
        "- It is overfitting training data even with 1 conv layer and 1 dense layer.\n",
        "- Testing accuracy = 86.5 %\n",
        "- For some alphabets - it perform really well i.e. 'A', 'E', 'F'.\n",
        "- For some alphabets, it is getting confused with others like 'R' with 'K' and 'I'."
      ]
    },
    {
      "cell_type": "code",
      "metadata": {
        "id": "2eLeSplVxGkZ",
        "colab_type": "code",
        "colab": {
          "base_uri": "https://localhost:8080/",
          "height": 811
        },
        "outputId": "e4cf2cd3-0ef1-4db7-e7bb-f2f8ed3b4961"
      },
      "source": [
        "example = 16\n",
        "plt.imshow(X_train[example,:,:,0], cmap='gray', vmin=0, vmax=255)\n",
        "print(\"Alphabet - \", chr(ord('A') + np.argmax(Y_train[example])))\n",
        "plt.show()\n",
        "example = 11\n",
        "plt.imshow(X_train[example,:,:,0], cmap='gray', vmin=0, vmax=255)\n",
        "print(\"Alphabet - \", chr(ord('A') + np.argmax(Y_train[example])))\n",
        "plt.show()\n",
        "example = 6\n",
        "plt.imshow(X_train[example,:,:,0], cmap='gray', vmin=0, vmax=255)\n",
        "print(\"Alphabet - \", chr(ord('A') + np.argmax(Y_train[example])))\n",
        "plt.show()"
      ],
      "execution_count": 42,
      "outputs": [
        {
          "output_type": "stream",
          "text": [
            "Alphabet -  R\n"
          ],
          "name": "stdout"
        },
        {
          "output_type": "display_data",
          "data": {
            "image/png": "[encoded data removed]",
            "text/plain": [
              "<Figure size 432x288 with 1 Axes>"
            ]
          },
          "metadata": {
            "tags": [],
            "needs_background": "light"
          }
        },
        {
          "output_type": "stream",
          "text": [
            "Alphabet -  K\n"
          ],
          "name": "stdout"
        },
        {
          "output_type": "display_data",
          "data": {
            "image/png": "[encoded data removed]",
            "text/plain": [
              "<Figure size 432x288 with 1 Axes>"
            ]
          },
          "metadata": {
            "tags": [],
            "needs_background": "light"
          }
        },
        {
          "output_type": "stream",
          "text": [
            "Alphabet -  I\n"
          ],
          "name": "stdout"
        },
        {
          "output_type": "display_data",
          "data": {
            "image/png": "[encoded data removed]",
            "text/plain": [
              "<Figure size 432x288 with 1 Axes>"
            ]
          },
          "metadata": {
            "tags": [],
            "needs_background": "light"
          }
        }
      ]
    },
    {
      "cell_type": "code",
      "metadata": {
        "id": "YP_FjxQg0Mg6",
        "colab_type": "code",
        "colab": {}
      },
      "source": [
        ""
      ],
      "execution_count": 0,
      "outputs": []
    }
  ]
}