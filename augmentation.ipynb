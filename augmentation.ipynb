{
  "nbformat": 4,
  "nbformat_minor": 0,
  "metadata": {
    "colab": {
      "name": "augmentation.ipynb",
      "provenance": [],
      "collapsed_sections": []
    },
    "kernelspec": {
      "name": "python3",
      "display_name": "Python 3"
    },
    "accelerator": "GPU"
  },
  "cells": [
    {
      "cell_type": "code",
      "metadata": {
        "id": "PInJjtXgEDIR",
        "colab_type": "code",
        "colab": {}
      },
      "source": [
        "import os\n",
        "import sys\n",
        "import math\n",
        "import cv2\n",
        "import numpy as np\n",
        "import pandas as pd\n",
        "from sklearn.cluster import KMeans\n",
        "from collections import Counter\n",
        "import imutils\n",
        "from tensorflow.keras.models import Model\n",
        "import matplotlib.pyplot as plt\n",
        "import tensorflow as tf\n",
        "from tensorflow.keras.models import model_from_json\n",
        "from tensorflow.keras.backend import resize_images"
      ],
      "execution_count": null,
      "outputs": []
    },
    {
      "cell_type": "code",
      "metadata": {
        "id": "J88917IvbUjc",
        "colab_type": "code",
        "colab": {}
      },
      "source": [
        "import urllib\n",
        "import tensorflow as tf\n",
        "from tensorflow.keras.datasets import mnist\n",
        "from tensorflow.keras import layers\n",
        "AUTOTUNE = tf.data.experimental.AUTOTUNE\n",
        "\n",
        "# import tensorflow_docs as tfdocs\n",
        "# import tensorflow_docs.plots\n",
        "\n",
        "import tensorflow_datasets as tfds\n",
        "\n",
        "import PIL.Image\n",
        "\n",
        "import matplotlib.pyplot as plt\n",
        "import matplotlib as mpl\n",
        "mpl.rcParams['figure.figsize'] = (12, 5)\n",
        "\n",
        "import numpy as np"
      ],
      "execution_count": null,
      "outputs": []
    },
    {
      "cell_type": "code",
      "metadata": {
        "id": "lLZwm0MdKnh9",
        "colab_type": "code",
        "colab": {}
      },
      "source": [
        "import os\n",
        "import sys\n",
        "import math\n",
        "import cv2\n",
        "import numpy as np\n",
        "import pandas as pd\n",
        "import matplotlib.pyplot as plt\n",
        "from tensorflow.keras.layers import Input, Dense, Activation, ZeroPadding2D, BatchNormalization, Flatten, Conv2D\n",
        "from tensorflow.keras.layers import MaxPooling2D, Dropout\n",
        "from tensorflow.keras.models import Model\n",
        "from tensorflow.keras.preprocessing import image\n",
        "from tensorflow.keras.utils import to_categorical\n",
        "import tensorflow as tf\n",
        "from sklearn.metrics import confusion_matrix\n",
        "from tensorflow.keras.models import model_from_json\n",
        "from tensorflow.keras import layers"
      ],
      "execution_count": null,
      "outputs": []
    },
    {
      "cell_type": "code",
      "metadata": {
        "id": "f8wJJdCct3_s",
        "colab_type": "code",
        "colab": {}
      },
      "source": [
        "class_weight = {\n",
        "    0: 2.0,\n",
        "    1: 2.0,\n",
        "    2: 2.0,\n",
        "    3: 3.0,\n",
        "    4: 1.0,\n",
        "    5: 2.0,\n",
        "    6: 4.0,\n",
        "    7: 2.0,\n",
        "    8: 2.0,\n",
        "    9: 2.0,\n",
        "    10:3.0,\n",
        "    11:3.0,\n",
        "    12:2.0,\n",
        "    13:3.0,\n",
        "    14:1.0,\n",
        "    15:1.0,\n",
        "    16:2.0,\n",
        "    17:1.0,\n",
        "    18:2.0,\n",
        "    19:1.0,\n",
        "    20:2.0,\n",
        "    21:2.0,\n",
        "    22:1.0,\n",
        "    23:2.0,\n",
        "    24:3.0,\n",
        "}"
      ],
      "execution_count": null,
      "outputs": []
    },
    {
      "cell_type": "markdown",
      "metadata": {
        "id": "K7qe7OQnZS2i",
        "colab_type": "text"
      },
      "source": [
        "# Data loading"
      ]
    },
    {
      "cell_type": "code",
      "metadata": {
        "id": "Si2SQhlFS0m1",
        "colab_type": "code",
        "colab": {}
      },
      "source": [
        "AUTOTUNE = tf.data.experimental.AUTOTUNE\n",
        "BATCH_SIZE = 64\n",
        "\n",
        "data = np.load('/content/drive/My Drive/data_all.npz')\n",
        "X_tr = data['arr_0']\n",
        "Y_tr = data['arr_4']\n",
        "# X_canny = data['arr_1']\n",
        "# X_canny = np.reshape(X_canny,(X_canny.shape[0],100,100,1))\n",
        "Y_tr = to_categorical(Y_tr,num_classes=25)\n",
        "z = np.random.permutation(X_tr.shape[0])\n",
        "X_tr = X_tr[z]\n",
        "Y_tr = Y_tr[z]\n",
        "# X_canny = X_canny[z]\n",
        "\n",
        "X_train = X_tr[:((3*X_tr.shape[0])//4)]\n",
        "# X_canny_train = X_canny[:((3*X_canny.shape[0])//4)]\n",
        "Y_train = Y_tr[:((3*X_tr.shape[0])//4)]\n",
        "\n",
        "X_test = X_tr[((3*X_tr.shape[0])//4):]\n",
        "# X_canny_test = X_canny[((3*X_canny.shape[0])//4):]\n",
        "Y_test = Y_tr[((3*X_tr.shape[0])//4):]\n",
        "\n",
        "\n"
      ],
      "execution_count": null,
      "outputs": []
    },
    {
      "cell_type": "markdown",
      "metadata": {
        "id": "XvrrIzS3ZfuS",
        "colab_type": "text"
      },
      "source": [
        "# This part is for multi input pipeline"
      ]
    },
    {
      "cell_type": "code",
      "metadata": {
        "id": "oa11ZEqM0zkG",
        "colab_type": "code",
        "colab": {}
      },
      "source": [
        "\n",
        "train_dataset = tf.data.Dataset.from_tensor_slices(({\"full_image\":X_train,\"canny_image\":X_canny_train},{\"final_out\":Y_train}))\n",
        "test_dataset = tf.data.Dataset.from_tensor_slices(({\"full_image\":X_test,\"canny_image\":X_canny_test},{\"final_out\":Y_test}))\n",
        "\n",
        "\n",
        "def convert(d1,d2):\n",
        "    image1 = d1['full_image']\n",
        "    image1 = tf.image.convert_image_dtype(image1, tf.float32)\n",
        "    image2 = d1['canny_image']\n",
        "    label = d2['final_out']\n",
        "    return {\"full_image\":image1,\"canny_image\":image2},{\"final_out\":label}\n",
        "\n",
        "def augment(d1,d2):\n",
        "    image = d1[\"full_image\"]\n",
        "    image = tf.image.convert_image_dtype(image, tf.float32) # Cast and normalize the image to [0,1]\n",
        "    image = tf.image.resize_with_crop_or_pad(image, 106, 106) # Add 6 pixels of padding\n",
        "    image = tf.image.random_crop(image, size=[100, 100, 3]) # Random crop back to 28x28\n",
        "    image = tf.image.random_brightness(image, max_delta=0.5)\n",
        "    image_canny = d1[\"canny_image\"]\n",
        "    label = d2[\"final_out\"]\n",
        "    return {\"full_image\":image,\"canny_image\":image_canny},{\"final_out\":label}\n",
        "\n",
        "augmented_train_batches = (\n",
        "    train_dataset.shuffle(buffer_size=1024).map(augment, num_parallel_calls=AUTOTUNE).batch(BATCH_SIZE).prefetch(AUTOTUNE).repeat()\n",
        ") \n",
        "\n",
        "validation_batches = (\n",
        "    test_dataset\n",
        "    .map(convert, num_parallel_calls=AUTOTUNE)\n",
        "    .batch(2*BATCH_SIZE)\n",
        ")\n",
        "# train_dataset.map(augment,num_parallel_calls=AUTOTUNE)"
      ],
      "execution_count": null,
      "outputs": []
    },
    {
      "cell_type": "markdown",
      "metadata": {
        "id": "VT8KZhKxZmN_",
        "colab_type": "text"
      },
      "source": [
        "# This part is the single input pipeline we are using"
      ]
    },
    {
      "cell_type": "code",
      "metadata": {
        "id": "QFhCWot9K82X",
        "colab_type": "code",
        "colab": {}
      },
      "source": [
        "train_dataset = tf.data.Dataset.from_tensor_slices((X_train,Y_train))\n",
        "test_dataset = tf.data.Dataset.from_tensor_slices((X_test,Y_test))\n",
        "\n",
        "def convert(image, label):\n",
        "    image = tf.image.convert_image_dtype(image, tf.float32) # Cast and normalize the image to [0,1]\n",
        "    return image, label\n",
        "\n",
        "\n",
        "def augment(image,label):\n",
        "    # image,label = convert(image, label)\n",
        "    image = tf.image.convert_image_dtype(image, tf.float32) # Cast and normalize the image to [0,1]\n",
        "    image = tf.image.resize_with_crop_or_pad(image, 106, 106) # Add 6 pixels of padding\n",
        "    image = tf.image.random_crop(image, size=[100, 100, 3]) # Random crop back to 28x28\n",
        "    image = tf.image.random_brightness(image, max_delta=0.5) # Random brightness\n",
        "\n",
        "    return image,label\n",
        "\n",
        "augmented_train_batches = (\n",
        "    train_dataset.shuffle(buffer_size=1024).map(augment, num_parallel_calls=AUTOTUNE).batch(BATCH_SIZE).prefetch(AUTOTUNE).repeat()\n",
        ") \n",
        "\n",
        "validation_batches = (\n",
        "    test_dataset\n",
        "    .map(convert, num_parallel_calls=AUTOTUNE)\n",
        "    .batch(2*BATCH_SIZE)\n",
        ")\n",
        "\n",
        "\n"
      ],
      "execution_count": null,
      "outputs": []
    },
    {
      "cell_type": "markdown",
      "metadata": {
        "id": "zLt7o0QEZrdT",
        "colab_type": "text"
      },
      "source": [
        "## This is the model for single input"
      ]
    },
    {
      "cell_type": "code",
      "metadata": {
        "id": "YZL2MHBiW5mG",
        "colab_type": "code",
        "colab": {}
      },
      "source": [
        "\n",
        "def model(input_shape):\n",
        "    \"\"\"\n",
        "    Implementation of the HappyModel.\n",
        "    \n",
        "    Arguments:\n",
        "    input_shape -- shape of the images of the dataset\n",
        "        (height, width, channels) as a tuple.  \n",
        "\n",
        "    \"\"\"\n",
        "    X_input = Input(shape=input_shape, name=\"full_image\")\n",
        "\n",
        "    # Zero-Padding: pads the border of X_input with zeroes\n",
        "    X = ZeroPadding2D((3, 3))(X_input)\n",
        "\n",
        "    # CONV -> BN -> RELU Block applied to X\n",
        "    X = Conv2D(16, (7, 7), strides = (1, 1), name = 'conv0')(X)\n",
        "    X = BatchNormalization(name = 'bn0')(X)\n",
        "    X = Activation('relu')(X)\n",
        "    X = Dropout(rate=0.5)(X)\n",
        "\n",
        "    # MAXPOOL\n",
        "    X = MaxPooling2D((2, 2), name='max_pool_1')(X)\n",
        "\n",
        "    # CONV -> BN -> RELU Block applied to X\n",
        "    X = Conv2D(32, (5, 5), strides = (1, 1), name = 'conv1')(X)\n",
        "    X = BatchNormalization(name = 'bn1')(X)\n",
        "    X = Activation('relu')(X)\n",
        "    X = Dropout(rate=0.3)(X)\n",
        "\n",
        "    #  # MAXPOOL\n",
        "    # X = MaxPooling2D((2, 2), name='max_pool_2')(X)\n",
        "\n",
        "    # # CONV -> BN -> RELU Block applied to X\n",
        "    # X = Conv2D(64, (3, 3), strides = (1, 1), name = 'conv2')(X)\n",
        "    # X = BatchNormalization(name = 'bn2')(X)\n",
        "    # X = Activation('relu')(X)\n",
        "    # X = Dropout(rate=0.2)(X)\n",
        "\n",
        "    # FLATTEN X (means convert it to a vector) + FULLYCONNECTED\n",
        "    X = Flatten()(X)\n",
        "    # X = Dropout(rate=0.5)(X)\n",
        "    X = Dense(25, activation='softmax', name='FC')(X)\n",
        "\n",
        "    # Create model. This creates your Keras model instance, you'll use this instance to train/test the model.\n",
        "    model = Model(inputs = X_input, outputs = X)\n",
        "\n",
        "    return model"
      ],
      "execution_count": null,
      "outputs": []
    },
    {
      "cell_type": "markdown",
      "metadata": {
        "id": "OZrmmMUvZvUW",
        "colab_type": "text"
      },
      "source": [
        "# Below is the model for multi input"
      ]
    },
    {
      "cell_type": "code",
      "metadata": {
        "id": "E-W0F26LAonP",
        "colab_type": "code",
        "colab": {}
      },
      "source": [
        "X_input = Input(shape=(100,100,1))\n",
        "X = ZeroPadding2D((3, 3))(X_input)\n",
        "X = Conv2D(16, (7, 7), strides = (1, 1), name = 'conv0')(X)\n",
        "X = BatchNormalization(name = 'bn0')(X)\n",
        "X = Activation('relu')(X)\n",
        "X = Dropout(rate=0.5)(X)\n",
        "X = MaxPooling2D((2, 2), name='max_pool_1')(X)\n",
        "X = Conv2D(32, (5, 5), strides = (1, 1), name = 'conv1')(X)\n",
        "X = BatchNormalization(name = 'bn1')(X)\n",
        "X = Activation('relu')(X)\n",
        "X = Dropout(rate=0.3)(X)\n",
        "out = Flatten()(X)\n",
        "\n",
        "X_input1 = Input(shape=(100,100,3))\n",
        "X1 = ZeroPadding2D((3, 3))(X_input1)\n",
        "X1 = Conv2D(16, (7, 7), strides = (1, 1), name = 'conv0')(X1)\n",
        "X1 = BatchNormalization(name = 'bn0')(X1)\n",
        "X1 = Activation('relu')(X1)\n",
        "X1 = Dropout(rate=0.5)(X1)\n",
        "X1 = MaxPooling2D((2, 2), name='max_pool_1')(X1)\n",
        "X1 = Conv2D(32, (5, 5), strides = (1, 1), name = 'conv1')(X1)\n",
        "X1 = BatchNormalization(name = 'bn1')(X1)\n",
        "X1 = Activation('relu')(X1)\n",
        "X1 = Dropout(rate=0.3)(X1)\n",
        "out1 = Flatten()(X1)\n",
        "\n",
        "encoder1 = Model(inputs = X_input,outputs = out)\n",
        "encoder2 = Model(inputs = X_input1,outputs = out1)\n",
        "\n",
        "full_im = Input(shape=(100,100,3), name=\"full_image\")\n",
        "branch1 = encoder2(full_im)\n",
        "canny_im = Input(shape=(100,100,1),name=\"canny_image\")\n",
        "branch2 = encoder1(canny_im)\n",
        "final_encoding = layers.concatenate([branch1,branch2])\n",
        "final_out = Dense(25, activation='softmax', name='final_out')(final_encoding)\n",
        "\n",
        "model_final = Model(inputs=[full_im,canny_im],outputs=final_out)\n",
        "model_final.compile(optimizer = \"adam\", loss = 'categorical_crossentropy', metrics = [\"accuracy\"])"
      ],
      "execution_count": null,
      "outputs": []
    },
    {
      "cell_type": "code",
      "metadata": {
        "id": "hduNgDpZLsez",
        "colab_type": "code",
        "colab": {
          "base_uri": "https://localhost:8080/",
          "height": 401
        },
        "outputId": "6acff148-5a40-4dd3-b41f-7d6af3fa3359"
      },
      "source": [
        "tf.keras.utils.plot_model(model_final, \"multi_input_and_output_model.png\", show_shapes=True)"
      ],
      "execution_count": null,
      "outputs": [
        {
          "output_type": "execute_result",
          "data": {
            "image/png": "[encoded data removed]",
            "text/plain": [
              "<IPython.core.display.Image object>"
            ]
          },
          "metadata": {
            "tags": []
          },
          "execution_count": 105
        }
      ]
    },
    {
      "cell_type": "code",
      "metadata": {
        "id": "6DDxYUmYQt_f",
        "colab_type": "code",
        "colab": {
          "base_uri": "https://localhost:8080/",
          "height": 753
        },
        "outputId": "5ab299bb-f033-464d-8a94-bf62fbc00ab6"
      },
      "source": [
        "model_final.fit(augmented_train_batches,epochs=20,steps_per_epoch=X_train.shape[0]//BATCH_SIZE,validation_data=validation_batches)"
      ],
      "execution_count": null,
      "outputs": [
        {
          "output_type": "stream",
          "text": [
            "Epoch 1/20\n",
            "148/148 [==============================] - 12s 82ms/step - loss: 4.7273 - accuracy: 0.8542 - val_loss: 0.0520 - val_accuracy: 0.9908\n",
            "Epoch 2/20\n",
            "148/148 [==============================] - 12s 81ms/step - loss: 0.0780 - accuracy: 0.9881 - val_loss: 0.1626 - val_accuracy: 0.9699\n",
            "Epoch 3/20\n",
            "148/148 [==============================] - 12s 81ms/step - loss: 0.0712 - accuracy: 0.9915 - val_loss: 0.1198 - val_accuracy: 0.9861\n",
            "Epoch 4/20\n",
            "148/148 [==============================] - 12s 81ms/step - loss: 0.0512 - accuracy: 0.9925 - val_loss: 0.5373 - val_accuracy: 0.9531\n",
            "Epoch 5/20\n",
            "148/148 [==============================] - 12s 80ms/step - loss: 0.1050 - accuracy: 0.9898 - val_loss: 0.0782 - val_accuracy: 0.9918\n",
            "Epoch 6/20\n",
            "148/148 [==============================] - 12s 80ms/step - loss: 0.0544 - accuracy: 0.9949 - val_loss: 0.1565 - val_accuracy: 0.9810\n",
            "Epoch 7/20\n",
            "148/148 [==============================] - 12s 80ms/step - loss: 0.0358 - accuracy: 0.9968 - val_loss: 0.1616 - val_accuracy: 0.9848\n",
            "Epoch 8/20\n",
            "148/148 [==============================] - 12s 80ms/step - loss: 0.0384 - accuracy: 0.9953 - val_loss: 0.0828 - val_accuracy: 0.9889\n",
            "Epoch 9/20\n",
            "148/148 [==============================] - 12s 80ms/step - loss: 0.0227 - accuracy: 0.9973 - val_loss: 0.1064 - val_accuracy: 0.9908\n",
            "Epoch 10/20\n",
            "148/148 [==============================] - 12s 80ms/step - loss: 0.0105 - accuracy: 0.9988 - val_loss: 0.0101 - val_accuracy: 0.9981\n",
            "Epoch 11/20\n",
            "148/148 [==============================] - 12s 80ms/step - loss: 0.0257 - accuracy: 0.9979 - val_loss: 0.4590 - val_accuracy: 0.9541\n",
            "Epoch 12/20\n",
            "148/148 [==============================] - 12s 80ms/step - loss: 0.0323 - accuracy: 0.9976 - val_loss: 0.2275 - val_accuracy: 0.9804\n",
            "Epoch 13/20\n",
            "148/148 [==============================] - 12s 81ms/step - loss: 0.0321 - accuracy: 0.9976 - val_loss: 0.0464 - val_accuracy: 0.9930\n",
            "Epoch 14/20\n",
            "148/148 [==============================] - 12s 80ms/step - loss: 0.0957 - accuracy: 0.9941 - val_loss: 0.1422 - val_accuracy: 0.9911\n",
            "Epoch 15/20\n",
            "148/148 [==============================] - 12s 81ms/step - loss: 0.0137 - accuracy: 0.9978 - val_loss: 0.0299 - val_accuracy: 0.9968\n",
            "Epoch 16/20\n",
            "148/148 [==============================] - 12s 81ms/step - loss: 0.0184 - accuracy: 0.9989 - val_loss: 0.0423 - val_accuracy: 0.9972\n",
            "Epoch 17/20\n",
            "148/148 [==============================] - 12s 81ms/step - loss: 0.0141 - accuracy: 0.9987 - val_loss: 0.0809 - val_accuracy: 0.9953\n",
            "Epoch 18/20\n",
            "148/148 [==============================] - 12s 80ms/step - loss: 0.0195 - accuracy: 0.9987 - val_loss: 0.0789 - val_accuracy: 0.9968\n",
            "Epoch 19/20\n",
            "148/148 [==============================] - 12s 80ms/step - loss: 0.0404 - accuracy: 0.9981 - val_loss: 0.0278 - val_accuracy: 0.9978\n",
            "Epoch 20/20\n",
            "148/148 [==============================] - 12s 81ms/step - loss: 0.0018 - accuracy: 0.9999 - val_loss: 0.0239 - val_accuracy: 0.9987\n"
          ],
          "name": "stdout"
        },
        {
          "output_type": "execute_result",
          "data": {
            "text/plain": [
              "<tensorflow.python.keras.callbacks.History at 0x7fe9bdbe4cf8>"
            ]
          },
          "metadata": {
            "tags": []
          },
          "execution_count": 106
        }
      ]
    },
    {
      "cell_type": "markdown",
      "metadata": {
        "id": "Uuu4HWDuZ3D-",
        "colab_type": "text"
      },
      "source": [
        "## Model Aug is the single input model "
      ]
    },
    {
      "cell_type": "code",
      "metadata": {
        "id": "INzt0MBxXoXP",
        "colab_type": "code",
        "colab": {}
      },
      "source": [
        "from keras.optimizers import Adam\n",
        "model_aug = model(X_train.shape[1:])\n",
        "model_aug.compile(optimizer = \"adam\", loss = 'categorical_crossentropy', metrics = [\"accuracy\"])\n",
        "model_aug.summary()"
      ],
      "execution_count": null,
      "outputs": []
    },
    {
      "cell_type": "code",
      "metadata": {
        "id": "wxAkq2VzY0__",
        "colab_type": "code",
        "colab": {
          "base_uri": "https://localhost:8080/",
          "height": 1000
        },
        "outputId": "414de5b9-2ed6-4f8a-86ca-a1529f2c09ec"
      },
      "source": [
        "model_aug.fit(augmented_train_batches,class_weight=class_weight,epochs=50,steps_per_epoch=X_train.shape[0]//BATCH_SIZE,validation_data=validation_batches)"
      ],
      "execution_count": null,
      "outputs": [
        {
          "output_type": "stream",
          "text": [
            "Epoch 1/50\n",
            "148/148 [==============================] - 7s 47ms/step - loss: 7.7646 - accuracy: 0.7310 - val_loss: 3.3309 - val_accuracy: 0.2798\n",
            "Epoch 2/50\n",
            "148/148 [==============================] - 7s 46ms/step - loss: 0.3184 - accuracy: 0.9544 - val_loss: 0.6886 - val_accuracy: 0.7695\n",
            "Epoch 3/50\n",
            "148/148 [==============================] - 7s 46ms/step - loss: 0.2590 - accuracy: 0.9680 - val_loss: 0.0440 - val_accuracy: 0.9870\n",
            "Epoch 4/50\n",
            "148/148 [==============================] - 7s 46ms/step - loss: 0.1562 - accuracy: 0.9810 - val_loss: 0.0602 - val_accuracy: 0.9835\n",
            "Epoch 5/50\n",
            "148/148 [==============================] - 7s 46ms/step - loss: 0.4289 - accuracy: 0.9614 - val_loss: 0.0391 - val_accuracy: 0.9908\n",
            "Epoch 6/50\n",
            "148/148 [==============================] - 7s 46ms/step - loss: 0.1517 - accuracy: 0.9842 - val_loss: 0.0280 - val_accuracy: 0.9949\n",
            "Epoch 7/50\n",
            "148/148 [==============================] - 7s 46ms/step - loss: 0.1363 - accuracy: 0.9875 - val_loss: 0.0361 - val_accuracy: 0.9921\n",
            "Epoch 8/50\n",
            "148/148 [==============================] - 7s 45ms/step - loss: 0.0982 - accuracy: 0.9909 - val_loss: 0.0986 - val_accuracy: 0.9744\n",
            "Epoch 9/50\n",
            "148/148 [==============================] - 7s 45ms/step - loss: 0.1964 - accuracy: 0.9830 - val_loss: 0.4664 - val_accuracy: 0.9085\n",
            "Epoch 10/50\n",
            "148/148 [==============================] - 7s 46ms/step - loss: 0.1136 - accuracy: 0.9891 - val_loss: 0.0201 - val_accuracy: 0.9981\n",
            "Epoch 11/50\n",
            "148/148 [==============================] - 7s 46ms/step - loss: 0.1379 - accuracy: 0.9892 - val_loss: 0.0262 - val_accuracy: 0.9972\n",
            "Epoch 12/50\n",
            "148/148 [==============================] - 7s 45ms/step - loss: 0.1691 - accuracy: 0.9875 - val_loss: 0.0719 - val_accuracy: 0.9883\n",
            "Epoch 13/50\n",
            "148/148 [==============================] - 7s 46ms/step - loss: 0.1276 - accuracy: 0.9925 - val_loss: 0.0244 - val_accuracy: 0.9965\n",
            "Epoch 14/50\n",
            "148/148 [==============================] - 7s 46ms/step - loss: 0.0772 - accuracy: 0.9938 - val_loss: 0.1951 - val_accuracy: 0.9683\n",
            "Epoch 15/50\n",
            "148/148 [==============================] - 7s 46ms/step - loss: 0.0206 - accuracy: 0.9982 - val_loss: 0.0224 - val_accuracy: 0.9994\n",
            "Epoch 16/50\n",
            "148/148 [==============================] - 7s 46ms/step - loss: 0.0189 - accuracy: 0.9972 - val_loss: 0.0234 - val_accuracy: 0.9987\n",
            "Epoch 17/50\n",
            "148/148 [==============================] - 7s 46ms/step - loss: 0.0297 - accuracy: 0.9975 - val_loss: 0.0230 - val_accuracy: 0.9972\n",
            "Epoch 18/50\n",
            "148/148 [==============================] - 7s 45ms/step - loss: 0.0727 - accuracy: 0.9936 - val_loss: 0.4013 - val_accuracy: 0.9405\n",
            "Epoch 19/50\n",
            "148/148 [==============================] - 7s 46ms/step - loss: 0.1220 - accuracy: 0.9910 - val_loss: 0.4595 - val_accuracy: 0.9364\n",
            "Epoch 20/50\n",
            "148/148 [==============================] - 7s 46ms/step - loss: 0.0855 - accuracy: 0.9932 - val_loss: 0.0282 - val_accuracy: 0.9981\n",
            "Epoch 21/50\n",
            "148/148 [==============================] - 7s 45ms/step - loss: 0.4101 - accuracy: 0.9827 - val_loss: 1.1062 - val_accuracy: 0.8693\n",
            "Epoch 22/50\n",
            "148/148 [==============================] - 7s 46ms/step - loss: 0.0537 - accuracy: 0.9953 - val_loss: 0.0153 - val_accuracy: 0.9994\n",
            "Epoch 23/50\n",
            "148/148 [==============================] - 7s 46ms/step - loss: 0.0221 - accuracy: 0.9986 - val_loss: 0.0186 - val_accuracy: 0.9994\n",
            "Epoch 24/50\n",
            "148/148 [==============================] - 7s 45ms/step - loss: 0.0118 - accuracy: 0.9983 - val_loss: 0.0208 - val_accuracy: 0.9994\n",
            "Epoch 25/50\n",
            "148/148 [==============================] - 7s 45ms/step - loss: 0.0369 - accuracy: 0.9976 - val_loss: 0.0215 - val_accuracy: 0.9991\n",
            "Epoch 26/50\n",
            "148/148 [==============================] - 7s 46ms/step - loss: 0.0177 - accuracy: 0.9976 - val_loss: 0.0283 - val_accuracy: 0.9994\n",
            "Epoch 27/50\n",
            "148/148 [==============================] - 7s 46ms/step - loss: 0.0169 - accuracy: 0.9983 - val_loss: 0.0255 - val_accuracy: 0.9962\n",
            "Epoch 28/50\n",
            "148/148 [==============================] - 7s 45ms/step - loss: 0.0080 - accuracy: 0.9993 - val_loss: 0.0168 - val_accuracy: 0.9981\n",
            "Epoch 29/50\n",
            "148/148 [==============================] - 7s 46ms/step - loss: 0.0205 - accuracy: 0.9975 - val_loss: 0.0196 - val_accuracy: 0.9994\n",
            "Epoch 30/50\n",
            "148/148 [==============================] - 7s 46ms/step - loss: 0.0314 - accuracy: 0.9973 - val_loss: 0.0137 - val_accuracy: 0.9994\n",
            "Epoch 31/50\n",
            "148/148 [==============================] - 7s 46ms/step - loss: 0.0179 - accuracy: 0.9983 - val_loss: 0.0212 - val_accuracy: 0.9994\n",
            "Epoch 32/50\n",
            "148/148 [==============================] - 7s 46ms/step - loss: 0.0011 - accuracy: 0.9997 - val_loss: 0.0190 - val_accuracy: 0.9991\n",
            "Epoch 33/50\n",
            "148/148 [==============================] - 7s 45ms/step - loss: 0.0209 - accuracy: 0.9984 - val_loss: 0.0403 - val_accuracy: 0.9962\n",
            "Epoch 34/50\n",
            "148/148 [==============================] - 7s 46ms/step - loss: 0.0270 - accuracy: 0.9973 - val_loss: 0.0230 - val_accuracy: 0.9975\n",
            "Epoch 35/50\n",
            "148/148 [==============================] - 7s 45ms/step - loss: 0.0204 - accuracy: 0.9975 - val_loss: 0.0304 - val_accuracy: 0.9972\n",
            "Epoch 36/50\n",
            "148/148 [==============================] - 7s 46ms/step - loss: 0.0255 - accuracy: 0.9970 - val_loss: 0.0202 - val_accuracy: 0.9981\n",
            "Epoch 37/50\n",
            "148/148 [==============================] - 7s 45ms/step - loss: 0.0721 - accuracy: 0.9952 - val_loss: 0.0657 - val_accuracy: 0.9804\n",
            "Epoch 38/50\n",
            "148/148 [==============================] - 7s 45ms/step - loss: 0.0365 - accuracy: 0.9969 - val_loss: 0.0536 - val_accuracy: 0.9889\n",
            "Epoch 39/50\n",
            "148/148 [==============================] - 7s 46ms/step - loss: 0.0122 - accuracy: 0.9985 - val_loss: 0.0137 - val_accuracy: 0.9987\n",
            "Epoch 40/50\n",
            "148/148 [==============================] - 7s 45ms/step - loss: 0.0071 - accuracy: 0.9992 - val_loss: 0.0167 - val_accuracy: 0.9994\n",
            "Epoch 41/50\n",
            "148/148 [==============================] - 7s 45ms/step - loss: 0.0112 - accuracy: 0.9992 - val_loss: 0.0673 - val_accuracy: 0.9835\n",
            "Epoch 42/50\n",
            "148/148 [==============================] - 7s 46ms/step - loss: 0.0235 - accuracy: 0.9970 - val_loss: 0.0260 - val_accuracy: 0.9981\n",
            "Epoch 43/50\n",
            "148/148 [==============================] - 7s 45ms/step - loss: 0.0075 - accuracy: 0.9992 - val_loss: 0.0080 - val_accuracy: 0.9994\n",
            "Epoch 44/50\n",
            "148/148 [==============================] - 7s 45ms/step - loss: 0.0551 - accuracy: 0.9954 - val_loss: 3.6545 - val_accuracy: 0.6223\n",
            "Epoch 45/50\n",
            "148/148 [==============================] - 7s 45ms/step - loss: 0.0635 - accuracy: 0.9943 - val_loss: 0.0132 - val_accuracy: 0.9991\n",
            "Epoch 46/50\n",
            "148/148 [==============================] - 7s 46ms/step - loss: 0.0203 - accuracy: 0.9978 - val_loss: 0.0154 - val_accuracy: 0.9981\n",
            "Epoch 47/50\n",
            "148/148 [==============================] - 7s 45ms/step - loss: 0.0115 - accuracy: 0.9984 - val_loss: 0.0123 - val_accuracy: 0.9994\n",
            "Epoch 48/50\n",
            "148/148 [==============================] - 7s 45ms/step - loss: 0.0064 - accuracy: 0.9994 - val_loss: 0.0172 - val_accuracy: 0.9975\n",
            "Epoch 49/50\n",
            "148/148 [==============================] - 7s 46ms/step - loss: 0.0092 - accuracy: 0.9994 - val_loss: 0.0086 - val_accuracy: 0.9991\n",
            "Epoch 50/50\n",
            "148/148 [==============================] - 7s 46ms/step - loss: 0.0191 - accuracy: 0.9977 - val_loss: 0.0251 - val_accuracy: 0.9991\n"
          ],
          "name": "stdout"
        },
        {
          "output_type": "execute_result",
          "data": {
            "text/plain": [
              "<tensorflow.python.keras.callbacks.History at 0x7f2f9ec592b0>"
            ]
          },
          "metadata": {
            "tags": []
          },
          "execution_count": 19
        }
      ]
    },
    {
      "cell_type": "code",
      "metadata": {
        "id": "CxTwoi5OZNKq",
        "colab_type": "code",
        "colab": {}
      },
      "source": [
        "model_final.save('trial_all_class_weights_multi_input.h5')"
      ],
      "execution_count": null,
      "outputs": []
    },
    {
      "cell_type": "code",
      "metadata": {
        "id": "B3ky3KqWl9pI",
        "colab_type": "code",
        "colab": {}
      },
      "source": [
        "model_aug.save('trial_all_class_weight.h5')"
      ],
      "execution_count": null,
      "outputs": []
    },
    {
      "cell_type": "code",
      "metadata": {
        "id": "5CELJZLqX5Pi",
        "colab_type": "code",
        "colab": {}
      },
      "source": [
        ""
      ],
      "execution_count": null,
      "outputs": []
    }
  ]
}