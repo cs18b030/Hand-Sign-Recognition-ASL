{
 "cells": [
  {
   "cell_type": "code",
   "execution_count": null,
   "metadata": {},
   "outputs": [],
   "source": [
    "import os\n",
    "import sys\n",
    "import math\n",
    "import cv2\n",
    "import numpy as np\n",
    "import pandas as pd\n",
    "from sklearn.cluster import KMeans\n",
    "from collections import Counter\n",
    "import imutils\n",
    "import matplotlib.pyplot as plt\n",
    "from tensorflow.keras.layers import Input, Dense, Activation, ZeroPadding2D, BatchNormalization, Flatten, Conv2D\n",
    "from tensorflow.keras.layers import MaxPooling2D, Dropout\n",
    "from tensorflow.keras.models import Model\n",
    "from tensorflow.keras.preprocessing import image\n",
    "from tensorflow.keras.utils import to_categorical\n",
    "import tensorflow as tf\n",
    "from sklearn.metrics import confusion_matrix\n",
    "from tensorflow.keras.models import model_from_json\n",
    "from tensorflow.keras.backend import resize_images"
   ]
  },
  {
   "cell_type": "code",
   "execution_count": null,
   "metadata": {},
   "outputs": [],
   "source": [
    "count = 0\n",
    "X_b_canny=[]\n",
    "X_img_hist=[]\n",
    "X_denoised=[]\n",
    "X_normal=[]\n",
    "label = []\n",
    "# alph = [10,11,23,24]\n",
    "for i in range(24):\n",
    "    if i==9:\n",
    "        continue\n",
    "    s = 'PATH TO DATA' + chr(ord('A') + i)\n",
    "    for filename in os.listdir(s.strip()):\n",
    "        if filename.endswith(\".jpg\"):\n",
    "            img = cv2.imread(s + \"/\" + filename)\n",
    "#             img = img[...,::-1] # Added\n",
    "            normal = img[...,::-1]\n",
    "            img = cv2.cvtColor(img ,cv2.COLOR_BGR2YUV)\n",
    "            img[:,:,0] = cv2.equalizeHist(img[:,:,0])\n",
    "            img_hist = cv2.cvtColor(img, cv2.COLOR_YUV2RGB)\n",
    "            denoised = cv2.bilateralFilter(img_hist, 7, 100, 100) \n",
    "            \n",
    "            v = np.median(denoised)\n",
    "            lower = int(max(0, (1.0 - 0.33) * v))\n",
    "            upper = int(min(255, (1.0 + 0.33) * v))\n",
    "            img_blur_canny = cv2.Canny(denoised,lower,upper)\n",
    "            \n",
    "            X_normal.append(normal)\n",
    "            X_b_canny.append(img_blur_canny)\n",
    "            X_img_hist.append(img_hist)\n",
    "            X_denoised.append(denoised)\n",
    "            label.append(i)\n",
    "            count +=1\n",
    "    print(s,count)   \n",
    "print(count)\n",
    "X_normal = np.asarray(X_normal)\n",
    "X_b_canny = np.asarray(X_b_canny)\n",
    "X_denoised = np.asarray(X_denoised)\n",
    "X_img_hist = np.asarray(X_img_hist)\n",
    "Y = np.asarray(label)\n",
    "print(Y.shape)\n",
    "print(X_normal.shape)\n",
    "print(X_b_canny.shape)\n",
    "print(X_denoised.shape)\n",
    "print(X_img_hist.shape)\n",
    "np.savez_compressed(\"data_all.npz\", X_normal, X_b_canny,X_denoised,X_img_hist,Y)"
   ]
  }
 ],
 "metadata": {
  "kernelspec": {
   "display_name": "Python 3",
   "language": "python",
   "name": "python3"
  },
  "language_info": {
   "codemirror_mode": {
    "name": "ipython",
    "version": 3
   },
   "file_extension": ".py",
   "mimetype": "text/x-python",
   "name": "python",
   "nbconvert_exporter": "python",
   "pygments_lexer": "ipython3",
   "version": "3.7.6"
  }
 },
 "nbformat": 4,
 "nbformat_minor": 4
}
